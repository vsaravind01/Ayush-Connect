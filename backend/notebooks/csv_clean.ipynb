{
 "cells": [
  {
   "cell_type": "code",
   "execution_count": 1,
   "id": "initial_id",
   "metadata": {
    "collapsed": true,
    "ExecuteTime": {
     "end_time": "2023-09-17T08:03:42.064056Z",
     "start_time": "2023-09-17T08:03:40.191262Z"
    }
   },
   "outputs": [],
   "source": [
    "import pandas as pd"
   ]
  },
  {
   "cell_type": "code",
   "execution_count": 2,
   "outputs": [],
   "source": [
    "df = pd.read_csv('../docker/logstash_ingest_data/base_dataset.csv')"
   ],
   "metadata": {
    "collapsed": false,
    "ExecuteTime": {
     "end_time": "2023-09-17T08:03:58.511291Z",
     "start_time": "2023-09-17T08:03:58.117292Z"
    }
   },
   "id": "6e9b9e8b2a20f405"
  },
  {
   "cell_type": "code",
   "execution_count": 6,
   "outputs": [],
   "source": [
    "df = df.fillna('')"
   ],
   "metadata": {
    "collapsed": false,
    "ExecuteTime": {
     "end_time": "2023-09-17T08:05:31.733897Z",
     "start_time": "2023-09-17T08:05:31.599191Z"
    }
   },
   "id": "dc73499bf8f39936"
  },
  {
   "cell_type": "code",
   "execution_count": 10,
   "outputs": [],
   "source": [
    "df.drop(['Unnamed: 0'], axis=1, inplace=True)"
   ],
   "metadata": {
    "collapsed": false,
    "ExecuteTime": {
     "end_time": "2023-09-17T09:15:03.352703Z",
     "start_time": "2023-09-17T09:15:03.309668Z"
    }
   },
   "id": "15ad6d50ebc7729a"
  },
  {
   "cell_type": "code",
   "execution_count": 14,
   "outputs": [],
   "source": [
    "df.to_csv('../docker/logstash_ingest_data/base_dataset.csv', index=False)"
   ],
   "metadata": {
    "collapsed": false,
    "ExecuteTime": {
     "end_time": "2023-09-17T11:24:30.508458Z",
     "start_time": "2023-09-17T11:24:30.015768Z"
    }
   },
   "id": "90aa3c1d9f489f6c"
  },
  {
   "cell_type": "code",
   "execution_count": 13,
   "outputs": [
    {
     "data": {
      "text/plain": "              key               scientific name  \\\n0      4078817947  Acacia arabica (Lam.) Willd.   \n1      4078818002  Acacia arabica (Lam.) Willd.   \n2       574664809  Acacia arabica (Lam.) Willd.   \n3      4032185353  Acacia arabica (Lam.) Willd.   \n4      2516132231  Acacia arabica (Lam.) Willd.   \n...           ...                           ...   \n56705  1051253242     Jasminum auriculatum Vahl   \n56706  1051253254     Jasminum auriculatum Vahl   \n56707  1051253263     Jasminum auriculatum Vahl   \n56708  1051253265     Jasminum auriculatum Vahl   \n56709  1051253271     Jasminum auriculatum Vahl   \n\n                           accepted scientific name  kingdom        phylum  \\\n0      Vachellia nilotica (L.) P.J.H.Hurter & Mabb.  Plantae  Tracheophyta   \n1      Vachellia nilotica (L.) P.J.H.Hurter & Mabb.  Plantae  Tracheophyta   \n2      Vachellia nilotica (L.) P.J.H.Hurter & Mabb.  Plantae  Tracheophyta   \n3      Vachellia nilotica (L.) P.J.H.Hurter & Mabb.  Plantae  Tracheophyta   \n4      Vachellia nilotica (L.) P.J.H.Hurter & Mabb.  Plantae  Tracheophyta   \n...                                             ...      ...           ...   \n56705                     Jasminum auriculatum Vahl  Plantae  Tracheophyta   \n56706                     Jasminum auriculatum Vahl  Plantae  Tracheophyta   \n56707                     Jasminum auriculatum Vahl  Plantae  Tracheophyta   \n56708                     Jasminum auriculatum Vahl  Plantae  Tracheophyta   \n56709                     Jasminum auriculatum Vahl  Plantae  Tracheophyta   \n\n          order    family      genus               species generic name  ...  \\\n0       Fabales  Fabaceae  Vachellia    Vachellia nilotica       Acacia  ...   \n1       Fabales  Fabaceae  Vachellia    Vachellia nilotica       Acacia  ...   \n2       Fabales  Fabaceae  Vachellia    Vachellia nilotica       Acacia  ...   \n3       Fabales  Fabaceae  Vachellia    Vachellia nilotica       Acacia  ...   \n4       Fabales  Fabaceae  Vachellia    Vachellia nilotica       Acacia  ...   \n...         ...       ...        ...                   ...          ...  ...   \n56705  Lamiales  Oleaceae   Jasminum  Jasminum auriculatum     Jasminum  ...   \n56706  Lamiales  Oleaceae   Jasminum  Jasminum auriculatum     Jasminum  ...   \n56707  Lamiales  Oleaceae   Jasminum  Jasminum auriculatum     Jasminum  ...   \n56708  Lamiales  Oleaceae   Jasminum  Jasminum auriculatum     Jasminum  ...   \n56709  Lamiales  Oleaceae   Jasminum  Jasminum auriculatum     Jasminum  ...   \n\n      continent           media type         media format media title  \\\n0          ASIA           StillImage           image/jpeg               \n1          ASIA           StillImage           image/jpeg               \n2          ASIA  InteractiveResource  application/ld+json               \n3                         StillImage           image/jpeg               \n4          ASIA           StillImage           image/jpeg               \n...         ...                  ...                  ...         ...   \n56705                     StillImage           image/jpeg               \n56706      ASIA           StillImage           image/jpeg               \n56707                     StillImage           image/jpeg               \n56708                     StillImage           image/jpeg               \n56709                     StillImage           image/jpeg               \n\n                                           media license  \\\n0            http://creativecommons.org/licenses/by/4.0/   \n1            http://creativecommons.org/licenses/by/4.0/   \n2      http://creativecommons.org/publicdomain/zero/1.0/   \n3                                                          \n4      http://creativecommons.org/publicdomain/zero/1.0/   \n...                                                  ...   \n56705        http://creativecommons.org/licenses/by/4.0/   \n56706        http://creativecommons.org/licenses/by/4.0/   \n56707        http://creativecommons.org/licenses/by/4.0/   \n56708        http://creativecommons.org/licenses/by/4.0/   \n56709        http://creativecommons.org/licenses/by/4.0/   \n\n                                        media identifier        level0  \\\n0      https://openherbarium.org/imglib/openherbarium...  Azad Kashmir   \n1      https://openherbarium.org/imglib/openherbarium...                 \n2      https://iiif.rbge.org.uk/herb/iiif/E00187111/m...                 \n3      https://s3.msi.umn.edu/mbaenrms3fs/images/MIN_...                 \n4      https://medialib.naturalis.nl/file/id/WAG.1636...                 \n...                                                  ...           ...   \n56705           http://www.kew.org/herbcatimg/684143.jpg                 \n56706           http://www.kew.org/herbcatimg/684145.jpg                 \n56707           http://www.kew.org/herbcatimg/684155.jpg                 \n56708           http://www.kew.org/herbcatimg/684153.jpg                 \n56709           http://www.kew.org/herbcatimg/684147.jpg                 \n\n             level1        level2        level3  \n0      Azad Kashmir  Azad Kashmir  Muzaffarabad  \n1                                                \n2                                                \n3                                                \n4                                                \n...             ...           ...           ...  \n56705                                            \n56706                                            \n56707                                            \n56708                                            \n56709                                            \n\n[56710 rows x 31 columns]",
      "text/html": "<div>\n<style scoped>\n    .dataframe tbody tr th:only-of-type {\n        vertical-align: middle;\n    }\n\n    .dataframe tbody tr th {\n        vertical-align: top;\n    }\n\n    .dataframe thead th {\n        text-align: right;\n    }\n</style>\n<table border=\"1\" class=\"dataframe\">\n  <thead>\n    <tr style=\"text-align: right;\">\n      <th></th>\n      <th>key</th>\n      <th>scientific name</th>\n      <th>accepted scientific name</th>\n      <th>kingdom</th>\n      <th>phylum</th>\n      <th>order</th>\n      <th>family</th>\n      <th>genus</th>\n      <th>species</th>\n      <th>generic name</th>\n      <th>...</th>\n      <th>continent</th>\n      <th>media type</th>\n      <th>media format</th>\n      <th>media title</th>\n      <th>media license</th>\n      <th>media identifier</th>\n      <th>level0</th>\n      <th>level1</th>\n      <th>level2</th>\n      <th>level3</th>\n    </tr>\n  </thead>\n  <tbody>\n    <tr>\n      <th>0</th>\n      <td>4078817947</td>\n      <td>Acacia arabica (Lam.) Willd.</td>\n      <td>Vachellia nilotica (L.) P.J.H.Hurter &amp; Mabb.</td>\n      <td>Plantae</td>\n      <td>Tracheophyta</td>\n      <td>Fabales</td>\n      <td>Fabaceae</td>\n      <td>Vachellia</td>\n      <td>Vachellia nilotica</td>\n      <td>Acacia</td>\n      <td>...</td>\n      <td>ASIA</td>\n      <td>StillImage</td>\n      <td>image/jpeg</td>\n      <td></td>\n      <td>http://creativecommons.org/licenses/by/4.0/</td>\n      <td>https://openherbarium.org/imglib/openherbarium...</td>\n      <td>Azad Kashmir</td>\n      <td>Azad Kashmir</td>\n      <td>Azad Kashmir</td>\n      <td>Muzaffarabad</td>\n    </tr>\n    <tr>\n      <th>1</th>\n      <td>4078818002</td>\n      <td>Acacia arabica (Lam.) Willd.</td>\n      <td>Vachellia nilotica (L.) P.J.H.Hurter &amp; Mabb.</td>\n      <td>Plantae</td>\n      <td>Tracheophyta</td>\n      <td>Fabales</td>\n      <td>Fabaceae</td>\n      <td>Vachellia</td>\n      <td>Vachellia nilotica</td>\n      <td>Acacia</td>\n      <td>...</td>\n      <td>ASIA</td>\n      <td>StillImage</td>\n      <td>image/jpeg</td>\n      <td></td>\n      <td>http://creativecommons.org/licenses/by/4.0/</td>\n      <td>https://openherbarium.org/imglib/openherbarium...</td>\n      <td></td>\n      <td></td>\n      <td></td>\n      <td></td>\n    </tr>\n    <tr>\n      <th>2</th>\n      <td>574664809</td>\n      <td>Acacia arabica (Lam.) Willd.</td>\n      <td>Vachellia nilotica (L.) P.J.H.Hurter &amp; Mabb.</td>\n      <td>Plantae</td>\n      <td>Tracheophyta</td>\n      <td>Fabales</td>\n      <td>Fabaceae</td>\n      <td>Vachellia</td>\n      <td>Vachellia nilotica</td>\n      <td>Acacia</td>\n      <td>...</td>\n      <td>ASIA</td>\n      <td>InteractiveResource</td>\n      <td>application/ld+json</td>\n      <td></td>\n      <td>http://creativecommons.org/publicdomain/zero/1.0/</td>\n      <td>https://iiif.rbge.org.uk/herb/iiif/E00187111/m...</td>\n      <td></td>\n      <td></td>\n      <td></td>\n      <td></td>\n    </tr>\n    <tr>\n      <th>3</th>\n      <td>4032185353</td>\n      <td>Acacia arabica (Lam.) Willd.</td>\n      <td>Vachellia nilotica (L.) P.J.H.Hurter &amp; Mabb.</td>\n      <td>Plantae</td>\n      <td>Tracheophyta</td>\n      <td>Fabales</td>\n      <td>Fabaceae</td>\n      <td>Vachellia</td>\n      <td>Vachellia nilotica</td>\n      <td>Acacia</td>\n      <td>...</td>\n      <td></td>\n      <td>StillImage</td>\n      <td>image/jpeg</td>\n      <td></td>\n      <td></td>\n      <td>https://s3.msi.umn.edu/mbaenrms3fs/images/MIN_...</td>\n      <td></td>\n      <td></td>\n      <td></td>\n      <td></td>\n    </tr>\n    <tr>\n      <th>4</th>\n      <td>2516132231</td>\n      <td>Acacia arabica (Lam.) Willd.</td>\n      <td>Vachellia nilotica (L.) P.J.H.Hurter &amp; Mabb.</td>\n      <td>Plantae</td>\n      <td>Tracheophyta</td>\n      <td>Fabales</td>\n      <td>Fabaceae</td>\n      <td>Vachellia</td>\n      <td>Vachellia nilotica</td>\n      <td>Acacia</td>\n      <td>...</td>\n      <td>ASIA</td>\n      <td>StillImage</td>\n      <td>image/jpeg</td>\n      <td></td>\n      <td>http://creativecommons.org/publicdomain/zero/1.0/</td>\n      <td>https://medialib.naturalis.nl/file/id/WAG.1636...</td>\n      <td></td>\n      <td></td>\n      <td></td>\n      <td></td>\n    </tr>\n    <tr>\n      <th>...</th>\n      <td>...</td>\n      <td>...</td>\n      <td>...</td>\n      <td>...</td>\n      <td>...</td>\n      <td>...</td>\n      <td>...</td>\n      <td>...</td>\n      <td>...</td>\n      <td>...</td>\n      <td>...</td>\n      <td>...</td>\n      <td>...</td>\n      <td>...</td>\n      <td>...</td>\n      <td>...</td>\n      <td>...</td>\n      <td>...</td>\n      <td>...</td>\n      <td>...</td>\n      <td>...</td>\n    </tr>\n    <tr>\n      <th>56705</th>\n      <td>1051253242</td>\n      <td>Jasminum auriculatum Vahl</td>\n      <td>Jasminum auriculatum Vahl</td>\n      <td>Plantae</td>\n      <td>Tracheophyta</td>\n      <td>Lamiales</td>\n      <td>Oleaceae</td>\n      <td>Jasminum</td>\n      <td>Jasminum auriculatum</td>\n      <td>Jasminum</td>\n      <td>...</td>\n      <td></td>\n      <td>StillImage</td>\n      <td>image/jpeg</td>\n      <td></td>\n      <td>http://creativecommons.org/licenses/by/4.0/</td>\n      <td>http://www.kew.org/herbcatimg/684143.jpg</td>\n      <td></td>\n      <td></td>\n      <td></td>\n      <td></td>\n    </tr>\n    <tr>\n      <th>56706</th>\n      <td>1051253254</td>\n      <td>Jasminum auriculatum Vahl</td>\n      <td>Jasminum auriculatum Vahl</td>\n      <td>Plantae</td>\n      <td>Tracheophyta</td>\n      <td>Lamiales</td>\n      <td>Oleaceae</td>\n      <td>Jasminum</td>\n      <td>Jasminum auriculatum</td>\n      <td>Jasminum</td>\n      <td>...</td>\n      <td>ASIA</td>\n      <td>StillImage</td>\n      <td>image/jpeg</td>\n      <td></td>\n      <td>http://creativecommons.org/licenses/by/4.0/</td>\n      <td>http://www.kew.org/herbcatimg/684145.jpg</td>\n      <td></td>\n      <td></td>\n      <td></td>\n      <td></td>\n    </tr>\n    <tr>\n      <th>56707</th>\n      <td>1051253263</td>\n      <td>Jasminum auriculatum Vahl</td>\n      <td>Jasminum auriculatum Vahl</td>\n      <td>Plantae</td>\n      <td>Tracheophyta</td>\n      <td>Lamiales</td>\n      <td>Oleaceae</td>\n      <td>Jasminum</td>\n      <td>Jasminum auriculatum</td>\n      <td>Jasminum</td>\n      <td>...</td>\n      <td></td>\n      <td>StillImage</td>\n      <td>image/jpeg</td>\n      <td></td>\n      <td>http://creativecommons.org/licenses/by/4.0/</td>\n      <td>http://www.kew.org/herbcatimg/684155.jpg</td>\n      <td></td>\n      <td></td>\n      <td></td>\n      <td></td>\n    </tr>\n    <tr>\n      <th>56708</th>\n      <td>1051253265</td>\n      <td>Jasminum auriculatum Vahl</td>\n      <td>Jasminum auriculatum Vahl</td>\n      <td>Plantae</td>\n      <td>Tracheophyta</td>\n      <td>Lamiales</td>\n      <td>Oleaceae</td>\n      <td>Jasminum</td>\n      <td>Jasminum auriculatum</td>\n      <td>Jasminum</td>\n      <td>...</td>\n      <td></td>\n      <td>StillImage</td>\n      <td>image/jpeg</td>\n      <td></td>\n      <td>http://creativecommons.org/licenses/by/4.0/</td>\n      <td>http://www.kew.org/herbcatimg/684153.jpg</td>\n      <td></td>\n      <td></td>\n      <td></td>\n      <td></td>\n    </tr>\n    <tr>\n      <th>56709</th>\n      <td>1051253271</td>\n      <td>Jasminum auriculatum Vahl</td>\n      <td>Jasminum auriculatum Vahl</td>\n      <td>Plantae</td>\n      <td>Tracheophyta</td>\n      <td>Lamiales</td>\n      <td>Oleaceae</td>\n      <td>Jasminum</td>\n      <td>Jasminum auriculatum</td>\n      <td>Jasminum</td>\n      <td>...</td>\n      <td></td>\n      <td>StillImage</td>\n      <td>image/jpeg</td>\n      <td></td>\n      <td>http://creativecommons.org/licenses/by/4.0/</td>\n      <td>http://www.kew.org/herbcatimg/684147.jpg</td>\n      <td></td>\n      <td></td>\n      <td></td>\n      <td></td>\n    </tr>\n  </tbody>\n</table>\n<p>56710 rows × 31 columns</p>\n</div>"
     },
     "execution_count": 13,
     "metadata": {},
     "output_type": "execute_result"
    }
   ],
   "source": [
    "df"
   ],
   "metadata": {
    "collapsed": false,
    "ExecuteTime": {
     "end_time": "2023-09-17T09:24:04.688221Z",
     "start_time": "2023-09-17T09:24:04.631601Z"
    }
   },
   "id": "a0861e27d4e60baf"
  }
 ],
 "metadata": {
  "kernelspec": {
   "display_name": "Python 3",
   "language": "python",
   "name": "python3"
  },
  "language_info": {
   "codemirror_mode": {
    "name": "ipython",
    "version": 2
   },
   "file_extension": ".py",
   "mimetype": "text/x-python",
   "name": "python",
   "nbconvert_exporter": "python",
   "pygments_lexer": "ipython2",
   "version": "2.7.6"
  }
 },
 "nbformat": 4,
 "nbformat_minor": 5
}
