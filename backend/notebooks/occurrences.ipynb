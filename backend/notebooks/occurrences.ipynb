{
 "cells": [
  {
   "cell_type": "code",
   "execution_count": null,
   "metadata": {
    "id": "XMCzQlq9vKIO",
    "is_executing": true
   },
   "outputs": [],
   "source": [
    "import pandas as pd\n",
    "import requests\n",
    "from google.colab import drive"
   ]
  },
  {
   "cell_type": "code",
   "source": [
    "drive.mount('/content/drive')"
   ],
   "metadata": {
    "colab": {
     "base_uri": "https://localhost:8080/"
    },
    "id": "jvxycsm0MgJU",
    "outputId": "c1d2b9b7-b3c6-4bc9-c3ae-c222f77a55c2"
   },
   "execution_count": null,
   "outputs": []
  },
  {
   "cell_type": "code",
   "source": [
    "%cd /content/drive/.shortcut-targets-by-id/1Wq4ugcpaACto0UnBHnysssl3Mcxutxav/SIH 2023 - Repository\n",
    "%ls"
   ],
   "metadata": {
    "colab": {
     "base_uri": "https://localhost:8080/"
    },
    "id": "JV5SzPSiMxUh",
    "outputId": "98bc56b1-424c-47e7-96ae-b0e828f978ca"
   },
   "execution_count": null,
   "outputs": []
  },
  {
   "cell_type": "code",
   "execution_count": null,
   "metadata": {
    "colab": {
     "base_uri": "https://localhost:8080/"
    },
    "id": "YWBpblWLvW8L",
    "outputId": "3e743a6e-0bed-458a-b265-c294b061c013"
   },
   "outputs": [],
   "source": [
    "df = pd.read_csv('metadata/ayurvedic_identity/ayurvedic_identity.csv')\n",
    "unique_plant_names = df['Botanical correlations'].unique()\n",
    "len(unique_plant_names)"
   ]
  },
  {
   "cell_type": "code",
   "execution_count": null,
   "metadata": {
    "id": "VW0LqU59wFXv"
   },
   "outputs": [],
   "source": [
    "plant_occurrences = []\n",
    "api_url = \"https://api.gbif.org/v1/occurrence/search?scientificName={}&limit={}&mediaType=StillImage\""
   ]
  },
  {
   "cell_type": "code",
   "source": [
    "#unique_plant_names = unique_plant_names[:5]"
   ],
   "metadata": {
    "id": "UpkZSF03Up-d"
   },
   "execution_count": null,
   "outputs": []
  },
  {
   "cell_type": "code",
   "execution_count": null,
   "metadata": {
    "id": "IAvBuq19wJxb"
   },
   "outputs": [],
   "source": [
    "LIMIT = 50\n",
    "for plant_name in unique_plant_names:\n",
    "    response = requests.get(api_url.format(plant_name, LIMIT))\n",
    "    data = response.json()\n",
    "\n",
    "    if 'results' in data:\n",
    "        for result in data['results']:\n",
    "            occurrence = {\n",
    "                'key': result.get('key', 'N/A'),\n",
    "                'scientific name': result.get('scientificName', 'N/A'),\n",
    "                'accepted scientific name': result.get('acceptedScientificName', 'N/A'),\n",
    "                'kingdom': result.get('kingdom', 'N/A'),\n",
    "                'phylum': result.get('phylum', 'N/A'),\n",
    "                'order': result.get('order', 'N/A'),\n",
    "                'family': result.get('family', 'N/A'),\n",
    "                'genus': result.get('genus', 'N/A'),\n",
    "                'species': result.get('species', 'N/A'),\n",
    "                'generic name': result.get('genericName', 'N/A'),\n",
    "                'specific epithet': result.get('specificEpithet', 'N/A'),\n",
    "                'taxon rank': result.get('taxonRank', 'N/A'),\n",
    "                'taxonomic status': result.get('taxonomicStatus', 'N/A'),\n",
    "                'iucn red list category': result.get('iucnRedListCategory', 'N/A'),\n",
    "                'date identified': result.get('dateIdentified', 'N/A'),\n",
    "                'eventDate': result.get('eventDate', 'N/A'),\n",
    "                'decimalLatitude': result.get('decimalLatitude', 'N/A'),\n",
    "                'decimalLongitude': result.get('decimalLongitude', 'N/A'),\n",
    "                'locality': result.get('locality', 'N/A'),\n",
    "                'state province': result.get('stateProvince', 'N/A'),\n",
    "                'country': result.get('country', 'N/A'),\n",
    "                'continent': result.get('continent', 'N/A'),\n",
    "            }\n",
    "\n",
    "            media_infos = result.get('media', [])\n",
    "            for media_info in media_infos:\n",
    "                media_data = media_info\n",
    "                occurrence['media type'] = media_data.get('type', 'N/A')\n",
    "                occurrence['media format'] = media_data.get('format', 'N/A')\n",
    "                occurrence['media title'] = media_data.get('title', 'N/A')\n",
    "                occurrence['media license'] = media_data.get('license', 'N/A')\n",
    "                occurrence['media identifier'] = media_data.get('identifier', 'N/A')\n",
    "\n",
    "            gadm_data = result.get('gadm', [])\n",
    "            if gadm_data:\n",
    "                level0 = gadm_data.get('level0')\n",
    "                if level0:\n",
    "                  occurrence['level0'] = level0.get('name', 'N/A')\n",
    "                level1 = gadm_data.get('level1')\n",
    "                if level1:\n",
    "                  occurrence['level1'] = level1.get('name', 'N/A')\n",
    "                level2 = gadm_data.get('level2')\n",
    "                if level2:\n",
    "                  occurrence['level2'] = level2.get('name', 'N/A')\n",
    "                level3 = gadm_data.get('level3')\n",
    "                if level3:\n",
    "                  occurrence['level3'] = level3.get('name', 'N/A')\n",
    "\n",
    "            plant_occurrences.append(occurrence)\n"
   ]
  },
  {
   "cell_type": "code",
   "execution_count": null,
   "metadata": {
    "id": "D9K3K0-Nw9JN"
   },
   "outputs": [],
   "source": [
    "occurrences_df = pd.DataFrame(plant_occurrences)"
   ]
  },
  {
   "cell_type": "code",
   "source": [
    "occurrences_df.to_csv('metadata/ayurvedic_identity/gbif_ayurvedic_identity.csv')"
   ],
   "metadata": {
    "id": "wo4cm54HZ7LY"
   },
   "execution_count": null,
   "outputs": []
  }
 ],
 "metadata": {
  "colab": {
   "provenance": []
  },
  "kernelspec": {
   "name": "python3",
   "language": "python",
   "display_name": "Python 3 (ipykernel)"
  },
  "language_info": {
   "name": "python"
  }
 },
 "nbformat": 4,
 "nbformat_minor": 0
}
