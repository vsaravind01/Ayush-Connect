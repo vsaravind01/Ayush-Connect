{
 "cells": [
  {
   "cell_type": "code",
   "execution_count": 1,
   "id": "initial_id",
   "metadata": {
    "collapsed": true,
    "ExecuteTime": {
     "end_time": "2023-09-09T07:16:08.889746Z",
     "start_time": "2023-09-09T07:16:08.300555Z"
    }
   },
   "outputs": [],
   "source": [
    "import requests\n",
    "from bs4 import BeautifulSoup as bs\n",
    "import pandas as pd"
   ]
  },
  {
   "cell_type": "code",
   "execution_count": 2,
   "outputs": [],
   "source": [
    "url = 'https://bsi.gov.in/page/en/medicinal-plant-database'"
   ],
   "metadata": {
    "collapsed": false,
    "ExecuteTime": {
     "end_time": "2023-09-09T07:16:18.720576Z",
     "start_time": "2023-09-09T07:16:18.711981Z"
    }
   },
   "id": "7841c131ea652829"
  },
  {
   "cell_type": "code",
   "execution_count": 3,
   "outputs": [],
   "source": [
    "page = requests.get(url)"
   ],
   "metadata": {
    "collapsed": false,
    "ExecuteTime": {
     "end_time": "2023-09-09T07:17:05.356464Z",
     "start_time": "2023-09-09T07:16:58.982191Z"
    }
   },
   "id": "e3a77adcdaebecc5"
  },
  {
   "cell_type": "code",
   "execution_count": 4,
   "outputs": [],
   "source": [
    "tables = pd.read_html(page.text)"
   ],
   "metadata": {
    "collapsed": false,
    "ExecuteTime": {
     "end_time": "2023-09-09T07:17:09.070167Z",
     "start_time": "2023-09-09T07:17:08.927764Z"
    }
   },
   "id": "b5bbd2e12b9e0b63"
  },
  {
   "cell_type": "code",
   "execution_count": 6,
   "outputs": [],
   "source": [
    "soup = bs(page.text, 'html.parser')"
   ],
   "metadata": {
    "collapsed": false,
    "ExecuteTime": {
     "end_time": "2023-09-09T07:18:24.258032Z",
     "start_time": "2023-09-09T07:18:23.751421Z"
    }
   },
   "id": "b6fd83a1d3e6df94"
  },
  {
   "cell_type": "code",
   "execution_count": 8,
   "outputs": [],
   "source": [
    "img_links = soup.select('a[href$=\"szBarcode\"]')\n",
    "img_links = [link['href'] for link in img_links]"
   ],
   "metadata": {
    "collapsed": false,
    "ExecuteTime": {
     "end_time": "2023-09-09T07:22:22.936115Z",
     "start_time": "2023-09-09T07:22:22.933396Z"
    }
   },
   "id": "523b38438c96f6ab"
  },
  {
   "cell_type": "code",
   "execution_count": 17,
   "outputs": [],
   "source": [
    "df = tables[0]\n",
    "df = df.assign(img_link=img_links)\n",
    "df.drop(columns=['#', \"Herbarium Image and Uses\"], inplace=True)\n",
    "df.to_csv('datasets/bsi_meta_with_img_links.csv', index=False)"
   ],
   "metadata": {
    "collapsed": false,
    "ExecuteTime": {
     "end_time": "2023-09-09T07:25:27.352655Z",
     "start_time": "2023-09-09T07:25:27.338343Z"
    }
   },
   "id": "cca37a5f60343b2e"
  }
 ],
 "metadata": {
  "kernelspec": {
   "display_name": "Python 3",
   "language": "python",
   "name": "python3"
  },
  "language_info": {
   "codemirror_mode": {
    "name": "ipython",
    "version": 2
   },
   "file_extension": ".py",
   "mimetype": "text/x-python",
   "name": "python",
   "nbconvert_exporter": "python",
   "pygments_lexer": "ipython2",
   "version": "2.7.6"
  }
 },
 "nbformat": 4,
 "nbformat_minor": 5
}
