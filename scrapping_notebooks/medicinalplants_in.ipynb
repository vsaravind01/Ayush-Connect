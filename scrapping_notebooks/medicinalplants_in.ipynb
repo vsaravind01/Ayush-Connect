{
 "cells": [
  {
   "cell_type": "code",
   "execution_count": 1,
   "id": "initial_id",
   "metadata": {
    "collapsed": true,
    "ExecuteTime": {
     "end_time": "2023-09-08T05:45:35.468898Z",
     "start_time": "2023-09-08T05:45:35.136396Z"
    }
   },
   "outputs": [],
   "source": [
    "from selenium import webdriver\n",
    "from selenium.webdriver.common.by import By\n",
    "import pandas as pd\n",
    "import time"
   ]
  },
  {
   "cell_type": "code",
   "execution_count": 2,
   "outputs": [],
   "source": [
    "url = 'https://www.medicinalplants.in/sanskritauthentication'"
   ],
   "metadata": {
    "collapsed": false,
    "ExecuteTime": {
     "end_time": "2023-09-08T05:45:35.472026Z",
     "start_time": "2023-09-08T05:45:35.469791Z"
    }
   },
   "id": "8b3105b913f98c79"
  },
  {
   "cell_type": "markdown",
   "source": [
    "## Selenium"
   ],
   "metadata": {
    "collapsed": false
   },
   "id": "51a6aa3f702c7605"
  },
  {
   "cell_type": "code",
   "execution_count": 3,
   "outputs": [],
   "source": [
    "start = time.time()"
   ],
   "metadata": {
    "collapsed": false,
    "ExecuteTime": {
     "end_time": "2023-09-08T05:45:35.474441Z",
     "start_time": "2023-09-08T05:45:35.472483Z"
    }
   },
   "id": "ae5fc4ac07bc2390"
  },
  {
   "cell_type": "code",
   "execution_count": 4,
   "outputs": [],
   "source": [
    "browser = webdriver.Chrome()"
   ],
   "metadata": {
    "collapsed": false,
    "ExecuteTime": {
     "end_time": "2023-09-08T05:45:36.729283Z",
     "start_time": "2023-09-08T05:45:35.475056Z"
    }
   },
   "id": "cf66752a690347ce"
  },
  {
   "cell_type": "code",
   "execution_count": 5,
   "outputs": [],
   "source": [
    "browser.get(url)\n",
    "time.sleep(5)"
   ],
   "metadata": {
    "collapsed": false,
    "ExecuteTime": {
     "end_time": "2023-09-08T05:45:42.674501Z",
     "start_time": "2023-09-08T05:45:36.734658Z"
    }
   },
   "id": "d8482260aa21cae8"
  },
  {
   "cell_type": "code",
   "execution_count": 6,
   "outputs": [],
   "source": [
    "browser.switch_to.frame(browser.find_element(by=By.TAG_NAME, value=\"iframe\"))"
   ],
   "metadata": {
    "collapsed": false,
    "ExecuteTime": {
     "end_time": "2023-09-08T05:45:42.711427Z",
     "start_time": "2023-09-08T05:45:42.677388Z"
    }
   },
   "id": "d643bb942f7608d5"
  },
  {
   "cell_type": "code",
   "execution_count": 7,
   "outputs": [],
   "source": [
    "pages = browser.find_elements(by=By.CSS_SELECTOR, value='[id^=\"srinipagination\"]' )\n",
    "pages[1].click()"
   ],
   "metadata": {
    "collapsed": false,
    "ExecuteTime": {
     "end_time": "2023-09-08T05:45:43.033173Z",
     "start_time": "2023-09-08T05:45:42.712681Z"
    }
   },
   "id": "18dc7b2152cc933c"
  },
  {
   "cell_type": "code",
   "execution_count": 8,
   "outputs": [],
   "source": [
    "tables = []"
   ],
   "metadata": {
    "collapsed": false,
    "ExecuteTime": {
     "end_time": "2023-09-08T05:45:43.036117Z",
     "start_time": "2023-09-08T05:45:43.033342Z"
    }
   },
   "id": "e274a5ac6df06b1a"
  },
  {
   "cell_type": "code",
   "execution_count": 9,
   "outputs": [],
   "source": [
    "for i in range(71):\n",
    "    dfs = pd.read_html(browser.page_source)\n",
    "    tables.extend(dfs)\n",
    "    pages = browser.find_elements(by=By.CSS_SELECTOR, value='[id^=\"srinipagination\"]')\n",
    "    pages[-1].click()"
   ],
   "metadata": {
    "collapsed": false,
    "ExecuteTime": {
     "end_time": "2023-09-08T05:45:58.201690Z",
     "start_time": "2023-09-08T05:45:43.037482Z"
    }
   },
   "id": "fe27b0d15ea846bb"
  },
  {
   "cell_type": "code",
   "execution_count": 10,
   "outputs": [
    {
     "data": {
      "text/plain": "(3908, 5)"
     },
     "execution_count": 10,
     "metadata": {},
     "output_type": "execute_result"
    }
   ],
   "source": [
    "df = pd.concat(tables)\n",
    "df.shape"
   ],
   "metadata": {
    "collapsed": false,
    "ExecuteTime": {
     "end_time": "2023-09-08T05:45:58.301015Z",
     "start_time": "2023-09-08T05:45:58.213416Z"
    }
   },
   "id": "25a97d03c03e7f13"
  },
  {
   "cell_type": "code",
   "execution_count": 11,
   "outputs": [],
   "source": [
    "df.drop(columns=['References'], axis=1, inplace=True)"
   ],
   "metadata": {
    "collapsed": false,
    "ExecuteTime": {
     "end_time": "2023-09-08T05:45:58.303491Z",
     "start_time": "2023-09-08T05:45:58.301382Z"
    }
   },
   "id": "a66d61f41eca763f"
  },
  {
   "cell_type": "code",
   "execution_count": 12,
   "outputs": [],
   "source": [
    "entire_list = browser.find_element(by=By.CSS_SELECTOR, value='[id=\"checksanskritcitEntire List\"]')"
   ],
   "metadata": {
    "collapsed": false,
    "ExecuteTime": {
     "end_time": "2023-09-08T05:45:58.311721Z",
     "start_time": "2023-09-08T05:45:58.304158Z"
    }
   },
   "id": "6b6253530d858315"
  },
  {
   "cell_type": "code",
   "execution_count": 13,
   "outputs": [],
   "source": [
    "entire_list.click()"
   ],
   "metadata": {
    "collapsed": false,
    "ExecuteTime": {
     "end_time": "2023-09-08T05:45:58.667876Z",
     "start_time": "2023-09-08T05:45:58.312516Z"
    }
   },
   "id": "5747baed7cb66d75"
  },
  {
   "cell_type": "code",
   "execution_count": null,
   "outputs": [],
   "source": [],
   "metadata": {
    "collapsed": false
   },
   "id": "d4f6c14d721feaf1"
  },
  {
   "cell_type": "code",
   "execution_count": 14,
   "outputs": [],
   "source": [
    "list_map = pd.read_html(browser.page_source)"
   ],
   "metadata": {
    "collapsed": false,
    "ExecuteTime": {
     "end_time": "2023-09-08T05:45:58.725642Z",
     "start_time": "2023-09-08T05:45:58.671411Z"
    }
   },
   "id": "19d5e3222124b49e"
  },
  {
   "cell_type": "code",
   "execution_count": 15,
   "outputs": [
    {
     "name": "stdout",
     "output_type": "stream",
     "text": [
      "<class 'pandas.core.frame.DataFrame'>\n",
      "Int64Index: 3918 entries, 0 to 3917\n",
      "Data columns (total 8 columns):\n",
      " #   Column                                                 Non-Null Count  Dtype \n",
      "---  ------                                                 --------------  ----- \n",
      " 0   Ref. Drug Name                                         3918 non-null   object\n",
      " 1   Botanical correlations                                 3918 non-null   object\n",
      " 2   Status of correlation                                  3302 non-null   object\n",
      " 3   Discussions on its identity by experts with reference  3288 non-null   object\n",
      " 4   S. No                                                  3918 non-null   int64 \n",
      " 5   English                                                3918 non-null   object\n",
      " 6   Sanskrit                                               3918 non-null   object\n",
      " 7   Diacritical                                            3918 non-null   object\n",
      "dtypes: int64(1), object(7)\n",
      "memory usage: 275.5+ KB\n"
     ]
    }
   ],
   "source": [
    "df_new = df.merge(list_map[0], left_on='Ref. Drug Name', right_on='Sanskrit')\n",
    "df_new.info()"
   ],
   "metadata": {
    "collapsed": false,
    "ExecuteTime": {
     "end_time": "2023-09-08T05:45:58.736763Z",
     "start_time": "2023-09-08T05:45:58.726562Z"
    }
   },
   "id": "e9359ffb3ffca0f0"
  },
  {
   "cell_type": "code",
   "execution_count": 16,
   "outputs": [],
   "source": [
    "df_new.drop(columns=['Ref. Drug Name'], axis=1, inplace=True)"
   ],
   "metadata": {
    "collapsed": false,
    "ExecuteTime": {
     "end_time": "2023-09-08T05:45:58.739399Z",
     "start_time": "2023-09-08T05:45:58.737227Z"
    }
   },
   "id": "c77edab75702d6c3"
  },
  {
   "cell_type": "code",
   "execution_count": 17,
   "outputs": [],
   "source": [
    "df_new.to_csv('medicinalplants_in/ayurvedic_identity.csv', index=False)"
   ],
   "metadata": {
    "collapsed": false,
    "ExecuteTime": {
     "end_time": "2023-09-08T05:45:58.742130Z",
     "start_time": "2023-09-08T05:45:58.739928Z"
    }
   },
   "id": "a52a8b0a7b198807"
  },
  {
   "cell_type": "code",
   "execution_count": 18,
   "outputs": [
    {
     "name": "stdout",
     "output_type": "stream",
     "text": [
      "Time taken: 23.270071744918823\n"
     ]
    }
   ],
   "source": [
    "end = time.time()\n",
    "duration = end - start\n",
    "print(f'Time taken: {duration}')"
   ],
   "metadata": {
    "collapsed": false,
    "ExecuteTime": {
     "end_time": "2023-09-08T05:45:58.745121Z",
     "start_time": "2023-09-08T05:45:58.742720Z"
    }
   },
   "id": "bd113cc6c8f516be"
  }
 ],
 "metadata": {
  "kernelspec": {
   "display_name": "Python 3",
   "language": "python",
   "name": "python3"
  },
  "language_info": {
   "codemirror_mode": {
    "name": "ipython",
    "version": 2
   },
   "file_extension": ".py",
   "mimetype": "text/x-python",
   "name": "python",
   "nbconvert_exporter": "python",
   "pygments_lexer": "ipython2",
   "version": "2.7.6"
  }
 },
 "nbformat": 4,
 "nbformat_minor": 5
}
